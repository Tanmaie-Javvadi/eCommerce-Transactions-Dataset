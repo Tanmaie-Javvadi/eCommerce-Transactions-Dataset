{
 "cells": [
  {
   "cell_type": "code",
   "execution_count": 12,
   "id": "665a569f",
   "metadata": {},
   "outputs": [],
   "source": [
    "import pandas as pd\n",
    "import numpy as np\n",
    "from sklearn.preprocessing import StandardScaler\n",
    "from sklearn.metrics.pairwise import cosine_similarity\n",
    "from sklearn.cluster import KMeans\n",
    "from sklearn.metrics import davies_bouldin_score, silhouette_score, mean_squared_error"
   ]
  },
  {
   "cell_type": "code",
   "execution_count": 5,
   "id": "7e897028",
   "metadata": {},
   "outputs": [],
   "source": [
    "# Load datasets\n",
    "customers = pd.read_csv('C:\\\\Users\\\\hp\\\\Downloads\\\\Customers.csv')\n",
    "products = pd.read_csv('C:\\\\Users\\\\hp\\\\Downloads\\\\Products.csv')\n",
    "transactions = pd.read_csv('C:\\\\Users\\\\hp\\\\Downloads\\\\Transactions.csv')"
   ]
  },
  {
   "cell_type": "code",
   "execution_count": 6,
   "id": "80ce3578",
   "metadata": {},
   "outputs": [],
   "source": [
    "# Merging datasets\n",
    "df = transactions.merge(customers, on='CustomerID').merge(products, on='ProductID')"
   ]
  },
  {
   "cell_type": "code",
   "execution_count": 7,
   "id": "95d22c73",
   "metadata": {},
   "outputs": [],
   "source": [
    "# Lookalike Model\n",
    "features = df.groupby('CustomerID').agg({'TotalValue': 'sum', 'Quantity': 'sum'}).reset_index()\n",
    "scaler = StandardScaler()\n",
    "features_scaled = scaler.fit_transform(features[['TotalValue', 'Quantity']])\n",
    "similarity_matrix = cosine_similarity(features_scaled)"
   ]
  },
  {
   "cell_type": "code",
   "execution_count": 8,
   "id": "33f3e039",
   "metadata": {},
   "outputs": [],
   "source": [
    "lookalikes = {}\n",
    "for i, customer in enumerate(features['CustomerID'][:20]):\n",
    "    similar_customers = np.argsort(similarity_matrix[i])[::-1][1:4]\n",
    "    lookalikes[customer] = [(features.iloc[j]['CustomerID'], similarity_matrix[i][j]) for j in similar_customers]\n",
    "\n",
    "lookalikes_df = pd.DataFrame.from_dict(lookalikes, orient='index', columns=['Lookalike1', 'Lookalike2', 'Lookalike3'])\n",
    "lookalikes_df.to_csv('Lookalike.csv')"
   ]
  },
  {
   "cell_type": "code",
   "execution_count": 16,
   "id": "34495df6",
   "metadata": {},
   "outputs": [
    {
     "name": "stdout",
     "output_type": "stream",
     "text": [
      "Silhouette Score: 0.4497501059000638\n"
     ]
    }
   ],
   "source": [
    "silhouette_avg = silhouette_score(features_scaled, KMeans(n_clusters=4, random_state=42).fit_predict(features_scaled))\n",
    "print(f'Silhouette Score: {silhouette_avg}')"
   ]
  },
  {
   "cell_type": "code",
   "execution_count": null,
   "id": "bb902073",
   "metadata": {},
   "outputs": [],
   "source": []
  }
 ],
 "metadata": {
  "kernelspec": {
   "display_name": "Python 3 (ipykernel)",
   "language": "python",
   "name": "python3"
  },
  "language_info": {
   "codemirror_mode": {
    "name": "ipython",
    "version": 3
   },
   "file_extension": ".py",
   "mimetype": "text/x-python",
   "name": "python",
   "nbconvert_exporter": "python",
   "pygments_lexer": "ipython3",
   "version": "3.9.12"
  }
 },
 "nbformat": 4,
 "nbformat_minor": 5
}
